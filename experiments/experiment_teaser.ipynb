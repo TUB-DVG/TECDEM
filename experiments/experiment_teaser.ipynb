{
 "cells": [
  {
   "cell_type": "code",
   "execution_count": 2,
   "metadata": {},
   "outputs": [],
   "source": [
    "from teaser.project import Project"
   ]
  },
  {
   "cell_type": "code",
   "execution_count": 4,
   "metadata": {},
   "outputs": [],
   "source": [
    "prj = Project(load_data=True)\n",
    "prj.name = \"FZK_house\""
   ]
  },
  {
   "cell_type": "code",
   "execution_count": 11,
   "metadata": {},
   "outputs": [
    {
     "ename": "AssertionError",
     "evalue": "only 'single_family_house',",
     "output_type": "error",
     "traceback": [
      "\u001b[1;31m---------------------------------------------------------------------------\u001b[0m",
      "\u001b[1;31mAssertionError\u001b[0m                            Traceback (most recent call last)",
      "Cell \u001b[1;32mIn[11], line 3\u001b[0m\n\u001b[0;32m      1\u001b[0m building_type \u001b[38;5;241m=\u001b[39m \u001b[38;5;124m\"\u001b[39m\u001b[38;5;124mSsingle_family_house\u001b[39m\u001b[38;5;124m\"\u001b[39m\n\u001b[1;32m----> 3\u001b[0m \u001b[43mprj\u001b[49m\u001b[38;5;241;43m.\u001b[39;49m\u001b[43madd_residential\u001b[49m\u001b[43m(\u001b[49m\u001b[43mmethod\u001b[49m\u001b[38;5;241;43m=\u001b[39;49m\u001b[38;5;124;43m'\u001b[39;49m\u001b[38;5;124;43mtabula_de\u001b[39;49m\u001b[38;5;124;43m'\u001b[39;49m\u001b[43m,\u001b[49m\n\u001b[0;32m      4\u001b[0m \u001b[43m                    \u001b[49m\u001b[43musage\u001b[49m\u001b[38;5;241;43m=\u001b[39;49m\u001b[43mbuilding_type\u001b[49m\u001b[43m,\u001b[49m\n\u001b[0;32m      5\u001b[0m \u001b[43m                    \u001b[49m\u001b[43mname\u001b[49m\u001b[38;5;241;43m=\u001b[39;49m\u001b[38;5;124;43m\"\u001b[39;49m\u001b[38;5;124;43mResidentialBuildingTabula\u001b[39;49m\u001b[38;5;124;43m\"\u001b[39;49m\u001b[43m,\u001b[49m\n\u001b[0;32m      6\u001b[0m \u001b[43m                    \u001b[49m\u001b[43myear_of_construction\u001b[49m\u001b[38;5;241;43m=\u001b[39;49m\u001b[38;5;241;43m2020\u001b[39;49m\u001b[43m,\u001b[49m\n\u001b[0;32m      7\u001b[0m \u001b[43m                    \u001b[49m\u001b[43mnumber_of_floors\u001b[49m\u001b[38;5;241;43m=\u001b[39;49m\u001b[38;5;241;43m3\u001b[39;49m\u001b[43m,\u001b[49m\n\u001b[0;32m      8\u001b[0m \u001b[43m                    \u001b[49m\u001b[43mheight_of_floors\u001b[49m\u001b[38;5;241;43m=\u001b[39;49m\u001b[38;5;241;43m3.125\u001b[39;49m\u001b[43m,\u001b[49m\n\u001b[0;32m      9\u001b[0m \u001b[43m                    \u001b[49m\u001b[43mnet_leased_area\u001b[49m\u001b[38;5;241;43m=\u001b[39;49m\u001b[38;5;241;43m120\u001b[39;49m\u001b[43m,\u001b[49m\n\u001b[0;32m     10\u001b[0m \u001b[43m                    \u001b[49m\u001b[43mconstruction_type\u001b[49m\u001b[38;5;241;43m=\u001b[39;49m\u001b[38;5;124;43m'\u001b[39;49m\u001b[38;5;124;43mheay\u001b[39;49m\u001b[38;5;124;43m'\u001b[39;49m\u001b[43m)\u001b[49m\n",
      "File \u001b[1;32mc:\\Users\\felix\\Programmieren\\tecdm\\venv\\lib\\site-packages\\teaser\\project.py:637\u001b[0m, in \u001b[0;36mProject.add_residential\u001b[1;34m(self, method, usage, name, year_of_construction, number_of_floors, height_of_floors, net_leased_area, with_ahu, internal_gains_mode, residential_layout, neighbour_buildings, attic, cellar, dormer, construction_type, number_of_apartments)\u001b[0m\n\u001b[0;32m    635\u001b[0m \u001b[38;5;124m\"\u001b[39m\u001b[38;5;124m'\u001b[39m\u001b[38;5;124mterraced_house\u001b[39m\u001b[38;5;124m'\u001b[39m\u001b[38;5;124m, \u001b[39m\u001b[38;5;124m'\u001b[39m\u001b[38;5;124mmulti_family_house\u001b[39m\u001b[38;5;124m'\u001b[39m\u001b[38;5;124m, \u001b[39m\u001b[38;5;124m'\u001b[39m\u001b[38;5;124mapartment_block\u001b[39m\u001b[38;5;124m'\u001b[39m\u001b[38;5;124m are\u001b[39m\u001b[38;5;124m\"\u001b[39m\n\u001b[0;32m    636\u001b[0m \u001b[38;5;124m\"\u001b[39m\u001b[38;5;124mvalid usages for iwu archetype method\u001b[39m\u001b[38;5;124m\"\u001b[39m\n\u001b[1;32m--> 637\u001b[0m \u001b[38;5;28;01massert\u001b[39;00m usage \u001b[38;5;129;01min\u001b[39;00m [\n\u001b[0;32m    638\u001b[0m     \u001b[38;5;124m\"\u001b[39m\u001b[38;5;124msingle_family_house\u001b[39m\u001b[38;5;124m\"\u001b[39m,\n\u001b[0;32m    639\u001b[0m     \u001b[38;5;124m\"\u001b[39m\u001b[38;5;124mterraced_house\u001b[39m\u001b[38;5;124m\"\u001b[39m,\n\u001b[0;32m    640\u001b[0m     \u001b[38;5;124m\"\u001b[39m\u001b[38;5;124mmulti_family_house\u001b[39m\u001b[38;5;124m\"\u001b[39m,\n\u001b[0;32m    641\u001b[0m     \u001b[38;5;124m\"\u001b[39m\u001b[38;5;124mapartment_block\u001b[39m\u001b[38;5;124m\"\u001b[39m,\n\u001b[0;32m    642\u001b[0m ], ass_error_usage_tabula\n\u001b[0;32m    644\u001b[0m \u001b[38;5;28;01mif\u001b[39;00m usage \u001b[38;5;241m==\u001b[39m \u001b[38;5;124m\"\u001b[39m\u001b[38;5;124msingle_family_house\u001b[39m\u001b[38;5;124m\"\u001b[39m:\n\u001b[0;32m    646\u001b[0m     type_bldg \u001b[38;5;241m=\u001b[39m SingleFamilyHouse(\n\u001b[0;32m    647\u001b[0m         \u001b[38;5;28mself\u001b[39m,\n\u001b[0;32m    648\u001b[0m         name,\n\u001b[1;32m   (...)\u001b[0m\n\u001b[0;32m    655\u001b[0m         construction_type,\n\u001b[0;32m    656\u001b[0m     )\n",
      "\u001b[1;31mAssertionError\u001b[0m: only 'single_family_house',"
     ]
    }
   ],
   "source": [
    "building_type = \"single_family_house\"\n",
    "\n",
    "prj.add_residential(method='tabula_de',\n",
    "                    usage=building_type,\n",
    "                    name=\"ResidentialBuildingTabula\",\n",
    "                    year_of_construction=2020,\n",
    "                    number_of_floors=3,\n",
    "                    height_of_floors=3.125,\n",
    "                    net_leased_area=120,\n",
    "                    construction_type='heay')"
   ]
  }
 ],
 "metadata": {
  "kernelspec": {
   "display_name": "venv",
   "language": "python",
   "name": "python3"
  },
  "language_info": {
   "codemirror_mode": {
    "name": "ipython",
    "version": 3
   },
   "file_extension": ".py",
   "mimetype": "text/x-python",
   "name": "python",
   "nbconvert_exporter": "python",
   "pygments_lexer": "ipython3",
   "version": "3.10.0"
  }
 },
 "nbformat": 4,
 "nbformat_minor": 2
}
