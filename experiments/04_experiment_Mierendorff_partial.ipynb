{
 "cells": [
  {
   "cell_type": "markdown",
   "metadata": {},
   "source": [
    "## Run an Experiment for the Mierendorff and one of its parts \n",
    "\n",
    "- Set up Model for 20240216_PartialMierendorff.gml \n",
    "- Simulate default \n",
    "- Simulate with further data\n",
    "- Compare to CEA"
   ]
  },
  {
   "cell_type": "code",
   "execution_count": 1,
   "metadata": {},
   "outputs": [],
   "source": [
    "import pandas as pd\n",
    "import os \n",
    "dir_path = os.getcwd()\n",
    "path_part = os.path.dirname(dir_path)\n",
    "model_path = os.path.join(path_part, r'data\\model_sheets')"
   ]
  },
  {
   "cell_type": "code",
   "execution_count": 2,
   "metadata": {},
   "outputs": [
    {
     "name": "stdout",
     "output_type": "stream",
     "text": [
      "c:\\Users\\felix\\Programmieren\\tecdm\\data\\examples\\gml_data\\Block020023.gml\n"
     ]
    }
   ],
   "source": [
    "mierendorf_path = os.path.join(path_part, r'data\\examples\\gml_data\\Block020023.gml')\n",
    "print(mierendorf_path)"
   ]
  },
  {
   "cell_type": "code",
   "execution_count": 3,
   "metadata": {},
   "outputs": [],
   "source": [
    "import sys\n",
    "import os\n",
    "\n",
    "module_path = os.path.abspath(os.path.join('..'))\n",
    "if module_path not in sys.path:\n",
    "    sys.path.append(module_path+\"\\\\src\\\\citygml\")\n",
    "\n",
    "from sheet_generation import create_sheet\n",
    "from scenario_generation import create_scenario, set_yoc\n",
    "from gml_alkis import get_block, get_groundsurfes"
   ]
  },
  {
   "cell_type": "code",
   "execution_count": 4,
   "metadata": {},
   "outputs": [
    {
     "name": "stdout",
     "output_type": "stream",
     "text": [
      "[<Element {http://www.opengis.net/citygml/building/2.0}Building at 0x22939cd03c0>, <Element {http://www.opengis.net/citygml/building/2.0}Building at 0x22939c3ec40>, <Element {http://www.opengis.net/citygml/building/2.0}Building at 0x22939c3e500>, <Element {http://www.opengis.net/citygml/building/2.0}Building at 0x229399c4500>]\n",
      "[<Element {http://www.opengis.net/citygml/building/2.0}Building at 0x22939c2c680>, <Element {http://www.opengis.net/citygml/building/2.0}Building at 0x22936f0fc80>, <Element {http://www.opengis.net/citygml/building/2.0}Building at 0x22938c77ec0>, <Element {http://www.opengis.net/citygml/building/2.0}Building at 0x22920ca6e00>]\n"
     ]
    }
   ],
   "source": [
    "df = create_sheet(mierendorf_path)\n",
    "model_mierendorff = os.path.join(model_path, r'Block020023.csv')\n",
    "df.to_csv(model_mierendorff)"
   ]
  },
  {
   "cell_type": "code",
   "execution_count": 5,
   "metadata": {},
   "outputs": [],
   "source": [
    "scenario_path = create_scenario(model_mierendorff, scenario_name=\"20240220_Mierendorff\", default_building_type=\"AB\")\n",
    "set_yoc(scenario_path, yoc=1955, retrofit=1)"
   ]
  },
  {
   "cell_type": "code",
   "execution_count": 6,
   "metadata": {},
   "outputs": [],
   "source": [
    "# Set up district generator \n",
    "from districtgenerator.datahandler import Datahandler"
   ]
  },
  {
   "cell_type": "code",
   "execution_count": 7,
   "metadata": {},
   "outputs": [],
   "source": [
    "# Set epw 2020 weather File \n",
    "parent_folder_path = os.path.dirname(os.getcwd())\n",
    "berlin_2020 = os.path.join(parent_folder_path, r'data\\examples\\weather_data\\AMY_2010_2022_2021.epw')\n",
    "partial_mierendorff = Datahandler()"
   ]
  },
  {
   "cell_type": "code",
   "execution_count": 8,
   "metadata": {},
   "outputs": [],
   "source": [
    "partial_mierendorff.setWeatherFile(berlin_2020)\n",
    "partial_mierendorff.initializeBuildings(scenario_name=\"20240220_Mierendorff\")\n",
    "partial_mierendorff.generateEnvironment()"
   ]
  },
  {
   "cell_type": "code",
   "execution_count": 9,
   "metadata": {},
   "outputs": [],
   "source": [
    "# Check to generate the District Model \n",
    "block_codes = get_block(mierendorf_path)"
   ]
  },
  {
   "cell_type": "code",
   "execution_count": 10,
   "metadata": {},
   "outputs": [],
   "source": [
    "# Get information about the block type \n",
    "path = os.path.join(path_part, 'data/berlin/DistrictLevelData.csv')\n"
   ]
  },
  {
   "cell_type": "code",
   "execution_count": 11,
   "metadata": {},
   "outputs": [
    {
     "data": {
      "text/html": [
       "<div>\n",
       "<style scoped>\n",
       "    .dataframe tbody tr th:only-of-type {\n",
       "        vertical-align: middle;\n",
       "    }\n",
       "\n",
       "    .dataframe tbody tr th {\n",
       "        vertical-align: top;\n",
       "    }\n",
       "\n",
       "    .dataframe thead th {\n",
       "        text-align: right;\n",
       "    }\n",
       "</style>\n",
       "<table border=\"1\" class=\"dataframe\">\n",
       "  <thead>\n",
       "    <tr style=\"text-align: right;\">\n",
       "      <th></th>\n",
       "      <th>id</th>\n",
       "      <th>building</th>\n",
       "      <th>year</th>\n",
       "      <th>retrofit</th>\n",
       "      <th>area</th>\n",
       "    </tr>\n",
       "  </thead>\n",
       "  <tbody>\n",
       "    <tr>\n",
       "      <th>0</th>\n",
       "      <td>0</td>\n",
       "      <td>AB</td>\n",
       "      <td>1955</td>\n",
       "      <td>1</td>\n",
       "      <td>1861.833984</td>\n",
       "    </tr>\n",
       "    <tr>\n",
       "      <th>1</th>\n",
       "      <td>1</td>\n",
       "      <td>AB</td>\n",
       "      <td>1955</td>\n",
       "      <td>1</td>\n",
       "      <td>1395.858154</td>\n",
       "    </tr>\n",
       "    <tr>\n",
       "      <th>2</th>\n",
       "      <td>2</td>\n",
       "      <td>MFH</td>\n",
       "      <td>1955</td>\n",
       "      <td>1</td>\n",
       "      <td>786.220703</td>\n",
       "    </tr>\n",
       "    <tr>\n",
       "      <th>3</th>\n",
       "      <td>3</td>\n",
       "      <td>AB</td>\n",
       "      <td>1955</td>\n",
       "      <td>1</td>\n",
       "      <td>6148.888184</td>\n",
       "    </tr>\n",
       "  </tbody>\n",
       "</table>\n",
       "</div>"
      ],
      "text/plain": [
       "   id building  year  retrofit         area\n",
       "0   0       AB  1955         1  1861.833984\n",
       "1   1       AB  1955         1  1395.858154\n",
       "2   2      MFH  1955         1   786.220703\n",
       "3   3       AB  1955         1  6148.888184"
      ]
     },
     "execution_count": 11,
     "metadata": {},
     "output_type": "execute_result"
    }
   ],
   "source": [
    "partial_mierendorff.scenario"
   ]
  },
  {
   "cell_type": "code",
   "execution_count": 12,
   "metadata": {},
   "outputs": [
    {
     "name": "stdout",
     "output_type": "stream",
     "text": [
      "Calculate demands of building AB_18_0\n",
      "C:\\Users\\felix\\Programmieren\\tecdm\\data\\results\\demands\\Block020023\n",
      "Save heating profile of building AB_18_0 in C:\\Users\\felix\\Programmieren\\tecdm\\data\\results\\demands\\Block020023\n",
      "Calculate demands of building AB_13_0\n",
      "C:\\Users\\felix\\Programmieren\\tecdm\\data\\results\\demands\\Block020023\n",
      "Save heating profile of building AB_13_0 in C:\\Users\\felix\\Programmieren\\tecdm\\data\\results\\demands\\Block020023\n",
      "Calculate demands of building MFH_7_0\n",
      "C:\\Users\\felix\\Programmieren\\tecdm\\data\\results\\demands\\Block020023\n",
      "Save heating profile of building MFH_7_0 in C:\\Users\\felix\\Programmieren\\tecdm\\data\\results\\demands\\Block020023\n",
      "Calculate demands of building AB_61_0\n",
      "C:\\Users\\felix\\Programmieren\\tecdm\\data\\results\\demands\\Block020023\n",
      "Save heating profile of building AB_61_0 in C:\\Users\\felix\\Programmieren\\tecdm\\data\\results\\demands\\Block020023\n",
      "Finished generating demands!\n"
     ]
    }
   ],
   "source": [
    "partial_mierendorff.setResultPath(r'C:\\Users\\felix\\Programmieren\\tecdm\\data')\n",
    "partial_mierendorff.generateBuildings()\n",
    "partial_mierendorff.generateDemands(savePath='Block020023')"
   ]
  },
  {
   "cell_type": "code",
   "execution_count": 14,
   "metadata": {},
   "outputs": [],
   "source": [
    "partial_mierendorff.saveDistrict()"
   ]
  },
  {
   "cell_type": "code",
   "execution_count": 18,
   "metadata": {},
   "outputs": [
    {
     "data": {
      "text/plain": [
       "{'building': 'AB',\n",
       " 'nb_flats': 18,\n",
       " 'annual_el_demand': array([1407.77380592, 1275.2263571 , 1568.05290474, 2199.16188563,\n",
       "        1973.25859044, 1697.06345001, 2400.005831  , 2304.18912828,\n",
       "        2196.14397038, 2362.10524101, 2429.44496987, 2159.78981148,\n",
       "        1498.92995553, 2045.98209241, 1887.72846228, 1939.45032879,\n",
       "        2869.95971892, 2634.25273519]),\n",
       " 'lighting_index': [13,\n",
       "  93,\n",
       "  53,\n",
       "  66,\n",
       "  94,\n",
       "  5,\n",
       "  69,\n",
       "  54,\n",
       "  15,\n",
       "  58,\n",
       "  80,\n",
       "  83,\n",
       "  20,\n",
       "  55,\n",
       "  16,\n",
       "  27,\n",
       "  23,\n",
       "  51],\n",
       " 'el_wrapper': [<richardsonpy.classes.stochastic_el_load_wrapper.ElectricityProfile at 0x22939dd1060>,\n",
       "  <richardsonpy.classes.stochastic_el_load_wrapper.ElectricityProfile at 0x22939d12fb0>,\n",
       "  <richardsonpy.classes.stochastic_el_load_wrapper.ElectricityProfile at 0x22939dd1300>,\n",
       "  <richardsonpy.classes.stochastic_el_load_wrapper.ElectricityProfile at 0x22939dd16f0>,\n",
       "  <richardsonpy.classes.stochastic_el_load_wrapper.ElectricityProfile at 0x22939dd1ae0>,\n",
       "  <richardsonpy.classes.stochastic_el_load_wrapper.ElectricityProfile at 0x22939dd1ea0>,\n",
       "  <richardsonpy.classes.stochastic_el_load_wrapper.ElectricityProfile at 0x22939dd22c0>,\n",
       "  <richardsonpy.classes.stochastic_el_load_wrapper.ElectricityProfile at 0x22939dd27a0>,\n",
       "  <richardsonpy.classes.stochastic_el_load_wrapper.ElectricityProfile at 0x22939dd2c80>,\n",
       "  <richardsonpy.classes.stochastic_el_load_wrapper.ElectricityProfile at 0x22939d11ae0>,\n",
       "  <richardsonpy.classes.stochastic_el_load_wrapper.ElectricityProfile at 0x22939dd2ec0>,\n",
       "  <richardsonpy.classes.stochastic_el_load_wrapper.ElectricityProfile at 0x22939dd1cf0>,\n",
       "  <richardsonpy.classes.stochastic_el_load_wrapper.ElectricityProfile at 0x22939dd1a50>,\n",
       "  <richardsonpy.classes.stochastic_el_load_wrapper.ElectricityProfile at 0x22939dd1630>,\n",
       "  <richardsonpy.classes.stochastic_el_load_wrapper.ElectricityProfile at 0x22939dd0f10>,\n",
       "  <richardsonpy.classes.stochastic_el_load_wrapper.ElectricityProfile at 0x22939dd0fa0>,\n",
       "  <richardsonpy.classes.stochastic_el_load_wrapper.ElectricityProfile at 0x22939dd0f70>,\n",
       "  <richardsonpy.classes.stochastic_el_load_wrapper.ElectricityProfile at 0x22939dd3730>],\n",
       " 'nb_occ': [1, 1, 2, 2, 2, 2, 3, 3, 2, 3, 3, 2, 1, 2, 2, 2, 4, 4],\n",
       " 'occ': array([41., 41., 41., ..., 41., 41., 41.]),\n",
       " 'dhw': array([   0.        ,    0.        ,    0.        , ..., 3203.04388002,\n",
       "        1325.56634668, 2053.22256052]),\n",
       " 'elec': array([ 669.16524651,  988.58243462,  918.15463209, ..., 7654.25065627,\n",
       "        7403.20570385, 4601.28309059]),\n",
       " 'gains': array([3090.82453135, 3196.23220343, 3172.99102859, ..., 5947.11629419,\n",
       "        5848.70147981, 4774.21470353]),\n",
       " 'heat': array([ 7728.13383115, 20252.41844336, 21641.19176448, ...,\n",
       "        10462.20050315, 10740.15265876, 11570.25135533])}"
      ]
     },
     "execution_count": 18,
     "metadata": {},
     "output_type": "execute_result"
    }
   ],
   "source": [
    "vars(partial_mierendorff.district[0]['user'])"
   ]
  },
  {
   "cell_type": "code",
   "execution_count": 40,
   "metadata": {},
   "outputs": [],
   "source": [
    "# Get electricity demand for all buildings \n",
    "import pandas as pd \n",
    "building_ids = ['AB_13_0', 'AB_18_0', 'AB_61_0', 'MFH_7_0']\n",
    "project_folder = os.path.dirname(os.getcwd())\n",
    "results_path = os.path.join(project_folder, 'data', 'results', 'demands', 'Block020023')\n",
    "\n",
    "demand_dict = {\n",
    "    \"Electricity\" : \"\",\n",
    "    \"Heating\": \"\",\n",
    "    \"DHW\": \"\",\n",
    "}\n",
    "elec_demand = 0 \n",
    "heat_demand = 0\n",
    "DHW_demand = 0 \n",
    "for building in building_ids:\n",
    "    elec_file_path = os.path.join(results_path, f'elec_{building}.csv')\n",
    "    elec_df = pd.read_csv(elec_file_path, names=[\"demand\"])\n",
    "    heat_file_path = os.path.join(results_path, f'heat_{building}.csv')\n",
    "    heat_df = pd.read_csv(heat_file_path, names=[\"demand\"])\n",
    "    dhw_file_path = os.path.join(results_path, f'dhw_{building}.csv')\n",
    "    dhw_df = pd.read_csv(dhw_file_path, names=[\"demand\"])\n",
    "    elec_demand = elec_demand + elec_df[\"demand\"].sum()\n",
    "    heat_demand = heat_demand + heat_df[\"demand\"].sum()\n",
    "    DHW_demand = DHW_demand + dhw_df[\"demand\"].sum()\n"
   ]
  },
  {
   "cell_type": "code",
   "execution_count": 43,
   "metadata": {},
   "outputs": [
    {
     "data": {
      "text/plain": [
       "(206.73635750999998, 658.20347424, 131.58957071)"
      ]
     },
     "execution_count": 43,
     "metadata": {},
     "output_type": "execute_result"
    }
   ],
   "source": [
    "elec_demand/1000000, heat_demand/1000000, DHW_demand/1000000"
   ]
  },
  {
   "cell_type": "markdown",
   "metadata": {},
   "source": []
  }
 ],
 "metadata": {
  "kernelspec": {
   "display_name": "venv",
   "language": "python",
   "name": "python3"
  },
  "language_info": {
   "codemirror_mode": {
    "name": "ipython",
    "version": 3
   },
   "file_extension": ".py",
   "mimetype": "text/x-python",
   "name": "python",
   "nbconvert_exporter": "python",
   "pygments_lexer": "ipython3",
   "version": "3.10.0"
  }
 },
 "nbformat": 4,
 "nbformat_minor": 2
}
