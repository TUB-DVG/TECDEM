{
 "cells": [
  {
   "cell_type": "code",
   "execution_count": null,
   "metadata": {},
   "outputs": [],
   "source": [
    "import numpy as np\n",
    "\n",
    "def calculate_rmse(df1, col1, df2, col2):\n",
    "    # Get the values from the specified columns\n",
    "    values1 = df1[col1].values\n",
    "    values2 = df2[col2].values\n",
    "    \n",
    "    # Calculate the squared differences\n",
    "    squared_diff = (values1 - values2) ** 2\n",
    "    \n",
    "    # Calculate the mean squared error\n",
    "    mse = np.mean(squared_diff)\n",
    "    \n",
    "    # Calculate the root mean squared error\n",
    "    rmse = np.sqrt(mse)\n",
    "    \n",
    "    return rmse\n"
   ]
  },
  {
   "cell_type": "code",
   "execution_count": null,
   "metadata": {},
   "outputs": [],
   "source": []
  },
  {
   "cell_type": "code",
   "execution_count": 7,
   "metadata": {},
   "outputs": [],
   "source": [
    "import numpy as np \n",
    "import pandas as pd\n",
    "import lxml.etree as ET \n",
    "def extract_energy_demand_for_analysis(gml_path):\n",
    "    \"\"\"\n",
    "    Extracts 'EnergyDemand' data along with 'energy:values' and their 'uom' from a GML file,\n",
    "    converting the values into a format suitable for analysis (e.g., numpy array).\n",
    "\n",
    "    Parameters:\n",
    "    gml_path (str): Path to the GML file.\n",
    "\n",
    "    Returns:\n",
    "    pandas.DataFrame: DataFrame containing the 'EnergyDemand' data along with values and units of measure.\n",
    "    \"\"\"\n",
    "\n",
    "    # Parse the GML file\n",
    "    tree = ET.parse(gml_path)\n",
    "    root = tree.getroot()\n",
    "\n",
    "    # Define the namespace map to simplify finding elements\n",
    "    namespaces = {k if k is not None else 'default': v for k, v in root.nsmap.items()}\n",
    "\n",
    "    # Find all 'EnergyDemand' elements\n",
    "    energy_demand_elements = tree.xpath('//energy:EnergyDemand', namespaces=namespaces)\n",
    "\n",
    "    # Extract relevant data from these elements\n",
    "    data = []\n",
    "    for elem in energy_demand_elements:\n",
    "        energy_demand_data = {'gml_id': elem.get('{http://www.opengis.net/gml}id')}\n",
    "        for child in elem.iterdescendants():\n",
    "            if child.tag.endswith('acquisitionMethod'):\n",
    "                energy_demand_data['acquisition_method'] = child.text\n",
    "            elif child.tag.endswith('interpolationType'):\n",
    "                energy_demand_data['interpolation_type'] = child.text\n",
    "            elif child.tag.endswith('source'):\n",
    "                energy_demand_data['source'] = child.text\n",
    "            elif child.tag.endswith('thematicDescription'):\n",
    "                energy_demand_data['thematic_description'] = child.text\n",
    "            elif child.tag.endswith('beginPosition'):\n",
    "                energy_demand_data['begin_position'] = child.text\n",
    "            elif child.tag.endswith('endPosition'):\n",
    "                energy_demand_data['end_position'] = child.text\n",
    "            elif child.tag.endswith('uom'):\n",
    "                energy_demand_data['unit_of_measure'] = child.text\n",
    "            elif child.tag.endswith('values'):\n",
    "                # Splitting the values string and converting to a numpy array of floats\n",
    "                values = np.array(child.text.split(), dtype=float)\n",
    "                energy_demand_data['energy_values'] = values\n",
    "\n",
    "        data.append(energy_demand_data)\n",
    "\n",
    "    # Convert the extracted data to a pandas DataFrame\n",
    "    df = pd.DataFrame(data)\n",
    "    return df"
   ]
  },
  {
   "cell_type": "code",
   "execution_count": 8,
   "metadata": {},
   "outputs": [],
   "source": [
    "fzk_demand = extract_energy_demand_for_analysis(r'C:\\Users\\felix\\Programmieren\\tecdm\\data\\examples\\FZKHouseLoD3-ADE-results.gml')"
   ]
  },
  {
   "cell_type": "code",
   "execution_count": 10,
   "metadata": {},
   "outputs": [
    {
     "data": {
      "text/html": [
       "<div>\n",
       "<style scoped>\n",
       "    .dataframe tbody tr th:only-of-type {\n",
       "        vertical-align: middle;\n",
       "    }\n",
       "\n",
       "    .dataframe tbody tr th {\n",
       "        vertical-align: top;\n",
       "    }\n",
       "\n",
       "    .dataframe thead th {\n",
       "        text-align: right;\n",
       "    }\n",
       "</style>\n",
       "<table border=\"1\" class=\"dataframe\">\n",
       "  <thead>\n",
       "    <tr style=\"text-align: right;\">\n",
       "      <th></th>\n",
       "      <th>gml_id</th>\n",
       "      <th>acquisition_method</th>\n",
       "      <th>interpolation_type</th>\n",
       "      <th>source</th>\n",
       "      <th>thematic_description</th>\n",
       "      <th>begin_position</th>\n",
       "      <th>end_position</th>\n",
       "      <th>energy_values</th>\n",
       "    </tr>\n",
       "  </thead>\n",
       "  <tbody>\n",
       "    <tr>\n",
       "      <th>0</th>\n",
       "      <td>GML_9e2120cd-89d5-4a65-b0dc-f6976f79df51</td>\n",
       "      <td>simulation</td>\n",
       "      <td>averageInSucceedingInterval</td>\n",
       "      <td>EnergyPlus</td>\n",
       "      <td>Heating energy</td>\n",
       "      <td>2022-01-01T00:00:00</td>\n",
       "      <td>2022-12-31T23:00:00</td>\n",
       "      <td>[5.9217373997837095, 6.048223325349117, 5.8854...</td>\n",
       "    </tr>\n",
       "    <tr>\n",
       "      <th>1</th>\n",
       "      <td>GML_fcf26a15-2992-40d8-b1bf-3d0f650c8f32</td>\n",
       "      <td>simulation</td>\n",
       "      <td>averageInSucceedingInterval</td>\n",
       "      <td>EnergyPlus</td>\n",
       "      <td>Cooling energy</td>\n",
       "      <td>2022-01-01T00:00:00</td>\n",
       "      <td>2022-12-31T23:00:00</td>\n",
       "      <td>[0.0, 0.0, 0.0, 0.0, 0.0, 0.0, 0.0, 0.0, 0.0, ...</td>\n",
       "    </tr>\n",
       "  </tbody>\n",
       "</table>\n",
       "</div>"
      ],
      "text/plain": [
       "                                     gml_id acquisition_method  \\\n",
       "0  GML_9e2120cd-89d5-4a65-b0dc-f6976f79df51         simulation   \n",
       "1  GML_fcf26a15-2992-40d8-b1bf-3d0f650c8f32         simulation   \n",
       "\n",
       "            interpolation_type      source thematic_description  \\\n",
       "0  averageInSucceedingInterval  EnergyPlus       Heating energy   \n",
       "1  averageInSucceedingInterval  EnergyPlus       Cooling energy   \n",
       "\n",
       "        begin_position         end_position  \\\n",
       "0  2022-01-01T00:00:00  2022-12-31T23:00:00   \n",
       "1  2022-01-01T00:00:00  2022-12-31T23:00:00   \n",
       "\n",
       "                                       energy_values  \n",
       "0  [5.9217373997837095, 6.048223325349117, 5.8854...  \n",
       "1  [0.0, 0.0, 0.0, 0.0, 0.0, 0.0, 0.0, 0.0, 0.0, ...  "
      ]
     },
     "execution_count": 10,
     "metadata": {},
     "output_type": "execute_result"
    }
   ],
   "source": [
    "fzk_demand.head()"
   ]
  },
  {
   "cell_type": "code",
   "execution_count": 24,
   "metadata": {},
   "outputs": [],
   "source": [
    "heating_demand = fzk_demand[fzk_demand['thematic_description'] == 'Heating energy'][\"energy_values\"].to_numpy()"
   ]
  },
  {
   "cell_type": "code",
   "execution_count": 29,
   "metadata": {},
   "outputs": [
    {
     "data": {
      "text/plain": [
       "8760"
      ]
     },
     "execution_count": 29,
     "metadata": {},
     "output_type": "execute_result"
    }
   ],
   "source": [
    "len(heating_demand[0])"
   ]
  },
  {
   "cell_type": "code",
   "execution_count": 34,
   "metadata": {},
   "outputs": [
    {
     "data": {
      "text/plain": [
       "array([3059.64, 3240.23, 3365.42, ..., 5134.33, 5202.11, 5206.83])"
      ]
     },
     "execution_count": 34,
     "metadata": {},
     "output_type": "execute_result"
    }
   ],
   "source": [
    "data_fzk = np.loadtxt(r'C:\\Users\\felix\\Programmieren\\tecdm\\src\\districtgenerator\\results\\demands\\heat_SFH_1_0.csv')\n",
    "data_fzk "
   ]
  },
  {
   "cell_type": "code",
   "execution_count": 35,
   "metadata": {},
   "outputs": [],
   "source": [
    "import numpy as np\n",
    "\n",
    "def calculate_rmse(array1, array2):\n",
    "    \"\"\"\n",
    "    Calculate the Root Mean Square Error (RMSE) between two NumPy arrays.\n",
    "\n",
    "    Parameters:\n",
    "    array1 (numpy.ndarray): First array.\n",
    "    array2 (numpy.ndarray): Second array.\n",
    "\n",
    "    Returns:\n",
    "    float: The RMSE value.\n",
    "    \"\"\"\n",
    "    # Ensure that the input arrays are NumPy arrays\n",
    "    array1 = np.array(array1)\n",
    "    array2 = np.array(array2)\n",
    "\n",
    "    # Check if the arrays have the same shape\n",
    "    if array1.shape != array2.shape:\n",
    "        raise ValueError(\"The input arrays must have the same shape.\")\n",
    "\n",
    "    # Calculate the Mean Squared Error (MSE)\n",
    "    mse = np.mean((array1 - array2) ** 2)\n",
    "\n",
    "    # Calculate the Root Mean Square Error (RMSE)\n",
    "    rmse = np.sqrt(mse)\n",
    "\n",
    "    return rmse\n"
   ]
  },
  {
   "cell_type": "markdown",
   "metadata": {},
   "source": []
  }
 ],
 "metadata": {
  "kernelspec": {
   "display_name": "venv",
   "language": "python",
   "name": "python3"
  },
  "language_info": {
   "codemirror_mode": {
    "name": "ipython",
    "version": 3
   },
   "file_extension": ".py",
   "mimetype": "text/x-python",
   "name": "python",
   "nbconvert_exporter": "python",
   "pygments_lexer": "ipython3",
   "version": "3.10.0"
  }
 },
 "nbformat": 4,
 "nbformat_minor": 2
}
